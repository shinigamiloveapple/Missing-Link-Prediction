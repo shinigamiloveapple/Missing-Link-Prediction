{
 "cells": [
  {
   "cell_type": "markdown",
   "metadata": {
    "colab_type": "text",
    "id": "igFb6VM-g39v"
   },
   "source": [
    "After Mapping all the prepared features for our data and changing our problem into binary classification of 0 and 1, We can now train our machine learning model using Random Forest Classifier."
   ]
  },
  {
   "cell_type": "code",
   "execution_count": 0,
   "metadata": {
    "colab": {},
    "colab_type": "code",
    "id": "zzXZ3oIEYLCa"
   },
   "outputs": [],
   "source": [
    "import pandas as pd\n",
    "from pandas import HDFStore, DataFrame\n",
    "from pandas import read_hdf\n",
    "from time import time\n",
    "import matplotlib.pyplot as plt\n",
    "import seaborn as sns\n",
    "import numpy as np"
   ]
  },
  {
   "cell_type": "markdown",
   "metadata": {
    "colab_type": "text",
    "id": "EVj7p7GSkNkc"
   },
   "source": [
    "Reading the HD5 file where we stored our df_final_train and df_final_test dataframe earlier using read_hdf."
   ]
  },
  {
   "cell_type": "code",
   "execution_count": 0,
   "metadata": {
    "colab": {},
    "colab_type": "code",
    "id": "CS891FIzY-mF"
   },
   "outputs": [],
   "source": [
    "df_final_train = read_hdf('final_data.h5', 'train_df', mode='r')\n",
    "df_final_test = read_hdf('final_data.h5', 'test_df', mode='r')"
   ]
  },
  {
   "cell_type": "code",
   "execution_count": 21,
   "metadata": {
    "colab": {
     "base_uri": "https://localhost:8080/",
     "height": 165
    },
    "colab_type": "code",
    "id": "hN3CHU4uavKL",
    "outputId": "30a973ea-dbe3-47eb-9b34-73a17af714ae"
   },
   "outputs": [
    {
     "data": {
      "text/html": [
       "<div>\n",
       "<style scoped>\n",
       "    .dataframe tbody tr th:only-of-type {\n",
       "        vertical-align: middle;\n",
       "    }\n",
       "\n",
       "    .dataframe tbody tr th {\n",
       "        vertical-align: top;\n",
       "    }\n",
       "\n",
       "    .dataframe thead th {\n",
       "        text-align: right;\n",
       "    }\n",
       "</style>\n",
       "<table border=\"1\" class=\"dataframe\">\n",
       "  <thead>\n",
       "    <tr style=\"text-align: right;\">\n",
       "      <th></th>\n",
       "      <th>source_node</th>\n",
       "      <th>destination_node</th>\n",
       "      <th>indicator_link</th>\n",
       "      <th>followers_jaccard</th>\n",
       "      <th>followees_jaccard</th>\n",
       "      <th>followers_cosine</th>\n",
       "      <th>followees_cosine</th>\n",
       "      <th>adar_in</th>\n",
       "      <th>follows_back</th>\n",
       "      <th>shortest_path</th>\n",
       "      <th>same_comp</th>\n",
       "      <th>page_rank_s</th>\n",
       "      <th>page_rank_d</th>\n",
       "      <th>katz_s</th>\n",
       "      <th>katz_d</th>\n",
       "    </tr>\n",
       "  </thead>\n",
       "  <tbody>\n",
       "    <tr>\n",
       "      <th>0</th>\n",
       "      <td>273084</td>\n",
       "      <td>1505602</td>\n",
       "      <td>1</td>\n",
       "      <td>0.0</td>\n",
       "      <td>0.0</td>\n",
       "      <td>0</td>\n",
       "      <td>0</td>\n",
       "      <td>0</td>\n",
       "      <td>0</td>\n",
       "      <td>4</td>\n",
       "      <td>1</td>\n",
       "      <td>0.000002</td>\n",
       "      <td>3.459963e-07</td>\n",
       "      <td>0.000773</td>\n",
       "      <td>0.000756</td>\n",
       "    </tr>\n",
       "    <tr>\n",
       "      <th>1</th>\n",
       "      <td>1284805</td>\n",
       "      <td>1252082</td>\n",
       "      <td>1</td>\n",
       "      <td>0.0</td>\n",
       "      <td>0.0</td>\n",
       "      <td>0</td>\n",
       "      <td>0</td>\n",
       "      <td>0</td>\n",
       "      <td>1</td>\n",
       "      <td>3</td>\n",
       "      <td>1</td>\n",
       "      <td>0.000006</td>\n",
       "      <td>2.202787e-07</td>\n",
       "      <td>0.001007</td>\n",
       "      <td>0.000744</td>\n",
       "    </tr>\n",
       "  </tbody>\n",
       "</table>\n",
       "</div>"
      ],
      "text/plain": [
       "   source_node  destination_node  ...    katz_s    katz_d\n",
       "0       273084           1505602  ...  0.000773  0.000756\n",
       "1      1284805           1252082  ...  0.001007  0.000744\n",
       "\n",
       "[2 rows x 15 columns]"
      ]
     },
     "execution_count": 21,
     "metadata": {
      "tags": []
     },
     "output_type": "execute_result"
    }
   ],
   "source": [
    "df_final_train.head(2)"
   ]
  },
  {
   "cell_type": "code",
   "execution_count": 22,
   "metadata": {
    "colab": {
     "base_uri": "https://localhost:8080/",
     "height": 102
    },
    "colab_type": "code",
    "id": "4P0RINHG3m7X",
    "outputId": "f1c7ef2d-0831-407c-906a-747580ab3da6"
   },
   "outputs": [
    {
     "data": {
      "text/plain": [
       "Index(['source_node', 'destination_node', 'indicator_link',\n",
       "       'followers_jaccard', 'followees_jaccard', 'followers_cosine',\n",
       "       'followees_cosine', 'adar_in', 'follows_back', 'shortest_path',\n",
       "       'same_comp', 'page_rank_s', 'page_rank_d', 'katz_s', 'katz_d'],\n",
       "      dtype='object')"
      ]
     },
     "execution_count": 22,
     "metadata": {
      "tags": []
     },
     "output_type": "execute_result"
    }
   ],
   "source": [
    "df_final_train.columns"
   ]
  },
  {
   "cell_type": "markdown",
   "metadata": {
    "colab_type": "text",
    "id": "dDAaUAJJ31RK"
   },
   "source": [
    "#Splittin X and Y"
   ]
  },
  {
   "cell_type": "markdown",
   "metadata": {
    "colab_type": "text",
    "id": "XrmiEEcmklZR"
   },
   "source": [
    "We are gonna store the target variable(indicator_link) in a seperate variable y_train and y_test for train and test data and after dropping unnecessary variables like indicator_link, source_node, destination_node and store in x_train and x_test, so we can later use in our model.  "
   ]
  },
  {
   "cell_type": "code",
   "execution_count": 0,
   "metadata": {
    "colab": {},
    "colab_type": "code",
    "id": "-KBtP06z30zu"
   },
   "outputs": [],
   "source": [
    "x_train = df_final_train.drop(['source_node', 'destination_node', 'indicator_link'], axis=1)\n",
    "x_test = df_final_test.drop(['source_node', 'destination_node', 'indicator_link'], axis=1)"
   ]
  },
  {
   "cell_type": "code",
   "execution_count": 0,
   "metadata": {
    "colab": {},
    "colab_type": "code",
    "id": "haZP-Z3G5S5X"
   },
   "outputs": [],
   "source": [
    "y_train = df_final_train.indicator_link\n",
    "y_test = df_final_test.indicator_link"
   ]
  },
  {
   "cell_type": "markdown",
   "metadata": {
    "colab_type": "text",
    "id": "iOzzZBLR52mz"
   },
   "source": [
    "#Model Performance"
   ]
  },
  {
   "cell_type": "code",
   "execution_count": 0,
   "metadata": {
    "colab": {},
    "colab_type": "code",
    "id": "sCHRdsMj6doQ"
   },
   "outputs": [],
   "source": [
    "from sklearn.ensemble import RandomForestClassifier\n",
    "from sklearn.model_selection import RandomizedSearchCV\n",
    "from scipy.stats import randint as sp_randint\n",
    "from sklearn.metrics import f1_score"
   ]
  },
  {
   "cell_type": "code",
   "execution_count": 51,
   "metadata": {
    "colab": {
     "base_uri": "https://localhost:8080/",
     "height": 153
    },
    "colab_type": "code",
    "id": "Z0yjnRAFI3BU",
    "outputId": "46776ada-1178-413b-e423-cd9408eda4d4"
   },
   "outputs": [
    {
     "data": {
      "text/plain": [
       "RandomForestClassifier(bootstrap=True, ccp_alpha=0.0, class_weight=None,\n",
       "                       criterion='gini', max_depth=None, max_features='auto',\n",
       "                       max_leaf_nodes=None, max_samples=None,\n",
       "                       min_impurity_decrease=0.0, min_impurity_split=None,\n",
       "                       min_samples_leaf=1, min_samples_split=2,\n",
       "                       min_weight_fraction_leaf=0.0, n_estimators=100,\n",
       "                       n_jobs=None, oob_score=False, random_state=105,\n",
       "                       verbose=0, warm_start=False)"
      ]
     },
     "execution_count": 51,
     "metadata": {
      "tags": []
     },
     "output_type": "execute_result"
    }
   ],
   "source": [
    "rforest = RandomForestClassifier(random_state=105)\n",
    "\n",
    "rforest.fit(x_train,y_train)"
   ]
  },
  {
   "cell_type": "markdown",
   "metadata": {
    "colab_type": "text",
    "id": "w8aehf_gKzYl"
   },
   "source": [
    "Random Forest Training Prediction and Accuracy"
   ]
  },
  {
   "cell_type": "code",
   "execution_count": 58,
   "metadata": {
    "colab": {
     "base_uri": "https://localhost:8080/",
     "height": 238
    },
    "colab_type": "code",
    "id": "nfJwNxWOKAHg",
    "outputId": "9fed0c77-f5c1-4ab5-f671-de64b077153c"
   },
   "outputs": [
    {
     "name": "stdout",
     "output_type": "stream",
     "text": [
      "Classification Report: \n",
      "               precision    recall  f1-score   support\n",
      "\n",
      "           0       0.94      0.99      0.96     50187\n",
      "           1       0.99      0.93      0.96     49814\n",
      "\n",
      "    accuracy                           0.96    100001\n",
      "   macro avg       0.96      0.96      0.96    100001\n",
      "weighted avg       0.96      0.96      0.96    100001\n",
      "\n",
      "============================================================\n",
      "Accuracy: \n",
      " 96.0930390696093\n"
     ]
    }
   ],
   "source": [
    "Rtrain_pred = rforest.predict(x_train)\n",
    "\n",
    "from sklearn.metrics import classification_report,confusion_matrix\n",
    "print('Classification Report: \\n', classification_report(y_train,Rtrain_pred))\n",
    "\n",
    "print('='*60)\n",
    "\n",
    "from sklearn.metrics import accuracy_score\n",
    "accurracy = accuracy_score(y_train,Rtrain_pred)\n",
    "print('Accuracy: \\n', accurracy*100)"
   ]
  },
  {
   "cell_type": "code",
   "execution_count": 60,
   "metadata": {
    "colab": {
     "base_uri": "https://localhost:8080/",
     "height": 34
    },
    "colab_type": "code",
    "id": "nuyFV5kgLXB2",
    "outputId": "b7ec9f57-e7ea-4fbe-e5e4-63e00aaf939a"
   },
   "outputs": [
    {
     "data": {
      "text/plain": [
       "0.9596696774193548"
      ]
     },
     "execution_count": 60,
     "metadata": {
      "tags": []
     },
     "output_type": "execute_result"
    }
   ],
   "source": [
    "f1_score(y_train,Rtrain_pred)"
   ]
  },
  {
   "cell_type": "markdown",
   "metadata": {
    "colab_type": "text",
    "id": "GGHTFHz7K4nk"
   },
   "source": [
    "Random Forest Testing Prediction and Accuracy"
   ]
  },
  {
   "cell_type": "code",
   "execution_count": 54,
   "metadata": {
    "colab": {
     "base_uri": "https://localhost:8080/",
     "height": 238
    },
    "colab_type": "code",
    "id": "e51LZAbZJjfe",
    "outputId": "69865e49-412b-47be-8fbc-0f773a330609"
   },
   "outputs": [
    {
     "name": "stdout",
     "output_type": "stream",
     "text": [
      "Classification Report: \n",
      "               precision    recall  f1-score   support\n",
      "\n",
      "           0       0.90      0.98      0.94     25088\n",
      "           1       0.98      0.89      0.93     24913\n",
      "\n",
      "    accuracy                           0.93     50001\n",
      "   macro avg       0.94      0.93      0.93     50001\n",
      "weighted avg       0.94      0.93      0.93     50001\n",
      "\n",
      "============================================================\n",
      "Accuracy: \n",
      " 93.26413471730565\n"
     ]
    }
   ],
   "source": [
    "R_pred = rforest.predict(x_test)\n",
    "\n",
    "from sklearn.metrics import classification_report,confusion_matrix\n",
    "print('Classification Report: \\n', classification_report(y_test,R_pred))\n",
    "\n",
    "print('='*60)\n",
    "\n",
    "from sklearn.metrics import accuracy_score\n",
    "accurracy = accuracy_score(y_test,R_pred)\n",
    "print('Accuracy: \\n', accurracy*100)"
   ]
  },
  {
   "cell_type": "markdown",
   "metadata": {
    "colab_type": "text",
    "id": "XOlbQ7eqLFIY"
   },
   "source": [
    "#Hyperparameter Tunning"
   ]
  },
  {
   "cell_type": "markdown",
   "metadata": {
    "colab_type": "text",
    "id": "2Vip2awKOzrx"
   },
   "source": [
    "To get the best papmeter for our model we are gonna perform Hyperparameter Tunning and then run our model with best parameter and evaluate our model.\n",
    "\n",
    "Checking Training and Testing Score at 5 different n_estimator with max_depth = 5."
   ]
  },
  {
   "cell_type": "code",
   "execution_count": 72,
   "metadata": {
    "colab": {
     "base_uri": "https://localhost:8080/",
     "height": 397
    },
    "colab_type": "code",
    "id": "fztc4WVh550W",
    "outputId": "a82f2cc5-8a85-45a1-e89c-c7dce66b1ddb"
   },
   "outputs": [
    {
     "name": "stdout",
     "output_type": "stream",
     "text": [
      "Estimators =  10 Train Score 0.9145729720459611 test Score 0.9127482162812688\n",
      "Estimators =  50 Train Score 0.9242437099579957 test Score 0.9218919551479821\n",
      "Estimators =  100 Train Score 0.9162755228080727 test Score 0.9145107830054667\n",
      "Estimators =  250 Train Score 0.9174882126018002 test Score 0.9159974232338416\n",
      "Estimators =  450 Train Score 0.91795970852979 test Score 0.9162872605446268\n"
     ]
    },
    {
     "data": {
      "text/plain": [
       "Text(0.5, 1.0, 'Estimators vs score at depth of 5')"
      ]
     },
     "execution_count": 72,
     "metadata": {
      "tags": []
     },
     "output_type": "execute_result"
    },
    {
     "data": {
      "image/png": "[encoded data removed]",
      "text/plain": [
       "<Figure size 432x288 with 1 Axes>"
      ]
     },
     "metadata": {
      "needs_background": "light",
      "tags": []
     },
     "output_type": "display_data"
    }
   ],
   "source": [
    "estimators = [10,50,100,250,450]\n",
    "train_scores = []\n",
    "test_scores = []\n",
    "for i in estimators:\n",
    "    rforest = RandomForestClassifier(bootstrap=True, class_weight=None, criterion='gini',\n",
    "            max_depth=5, max_features='auto', max_leaf_nodes=None,\n",
    "            min_impurity_decrease=0.0, min_impurity_split=None,\n",
    "            min_samples_leaf=52, min_samples_split=120,\n",
    "            min_weight_fraction_leaf=0.0, n_estimators=i, n_jobs=-1,random_state=25,verbose=0,warm_start=False)\n",
    "    rforest.fit(x_train,y_train)\n",
    "    train_sc = f1_score(y_train,rforest.predict(x_train))\n",
    "    test_sc = f1_score(y_test,rforest.predict(x_test))\n",
    "    test_scores.append(test_sc)\n",
    "    train_scores.append(train_sc)\n",
    "    print('Estimators = ',i,'Train Score',train_sc,'test Score',test_sc)\n",
    "plt.plot(estimators,train_scores,label='Train Score')\n",
    "plt.plot(estimators,test_scores,label='Test Score')\n",
    "plt.xlabel('Estimators')\n",
    "plt.ylabel('Score')\n",
    "plt.title('Estimators vs score at depth of 5')"
   ]
  },
  {
   "cell_type": "markdown",
   "metadata": {
    "colab_type": "text",
    "id": "ItHw3DWkPHPb"
   },
   "source": [
    "cheking Trainig and Testing score at 9 different max_depth with n_estimator= 115."
   ]
  },
  {
   "cell_type": "code",
   "execution_count": 73,
   "metadata": {
    "colab": {
     "base_uri": "https://localhost:8080/",
     "height": 448
    },
    "colab_type": "code",
    "id": "CwgAstUI-0fT",
    "outputId": "5f96a36e-b6f8-42f4-ed28-24996e950ed5"
   },
   "outputs": [
    {
     "name": "stdout",
     "output_type": "stream",
     "text": [
      "depth =  3 Train Score 0.9143275830486923 test Score 0.9132274218615092\n",
      "depth =  9 Train Score 0.9339206117835942 test Score 0.9298871063576946\n",
      "depth =  11 Train Score 0.9354120267260578 test Score 0.931092720824185\n",
      "depth =  15 Train Score 0.9362374069668291 test Score 0.9317340441285354\n",
      "depth =  20 Train Score 0.9360708500746786 test Score 0.9315601412351735\n",
      "depth =  35 Train Score 0.9360708500746786 test Score 0.9315601412351735\n",
      "depth =  50 Train Score 0.9360708500746786 test Score 0.9315601412351735\n",
      "depth =  70 Train Score 0.9360708500746786 test Score 0.9315601412351735\n",
      "depth =  130 Train Score 0.9360708500746786 test Score 0.9315601412351735\n"
     ]
    },
    {
     "data": {
      "image/png": "[encoded data removed]",
      "text/plain": [
       "<Figure size 432x288 with 1 Axes>"
      ]
     },
     "metadata": {
      "needs_background": "light",
      "tags": []
     },
     "output_type": "display_data"
    }
   ],
   "source": [
    "depths = [3,9,11,15,20,35,50,70,130]\n",
    "\n",
    "train_scores = []\n",
    "test_scores = []\n",
    "\n",
    "for i in depths:\n",
    "    rforest = RandomForestClassifier(bootstrap=True, class_weight=None, criterion='gini',\n",
    "            max_depth=i, max_features='auto', max_leaf_nodes=None,\n",
    "            min_impurity_decrease=0.0, min_impurity_split=None,\n",
    "            min_samples_leaf=52, min_samples_split=120,\n",
    "            min_weight_fraction_leaf=0.0, n_estimators=115, n_jobs=-1,random_state=25,verbose=0,warm_start=False)\n",
    "    rforest.fit(x_train,y_train)\n",
    "    train_sc = f1_score(y_train,rforest.predict(x_train))\n",
    "    test_sc = f1_score(y_test,rforest.predict(x_test))\n",
    "    test_scores.append(test_sc)\n",
    "    train_scores.append(train_sc)\n",
    "    print('depth = ',i,'Train Score',train_sc,'test Score',test_sc)\n",
    "plt.plot(depths,train_scores,label='Train Score')\n",
    "plt.plot(depths,test_scores,label='Test Score')\n",
    "plt.xlabel('Depth')\n",
    "plt.ylabel('Score')\n",
    "plt.title('Depth vs score at depth of 5 at estimators = 115')\n",
    "plt.show()"
   ]
  },
  {
   "cell_type": "markdown",
   "metadata": {
    "colab_type": "text",
    "id": "hCmBYNXhPu2J"
   },
   "source": [
    "**Checking for Best Parameter for Radom Forest Classifier**"
   ]
  },
  {
   "cell_type": "code",
   "execution_count": 74,
   "metadata": {
    "colab": {
     "base_uri": "https://localhost:8080/",
     "height": 357
    },
    "colab_type": "code",
    "id": "4B0FAiVKNVg0",
    "outputId": "fac6831b-b3ac-412a-aea1-739ffac6edcc"
   },
   "outputs": [
    {
     "data": {
      "text/plain": [
       "RandomizedSearchCV(cv=10, error_score=nan,\n",
       "                   estimator=RandomForestClassifier(bootstrap=True,\n",
       "                                                    ccp_alpha=0.0,\n",
       "                                                    class_weight=None,\n",
       "                                                    criterion='gini',\n",
       "                                                    max_depth=None,\n",
       "                                                    max_features='auto',\n",
       "                                                    max_leaf_nodes=None,\n",
       "                                                    max_samples=None,\n",
       "                                                    min_impurity_decrease=0.0,\n",
       "                                                    min_impurity_split=None,\n",
       "                                                    min_samples_leaf=1,\n",
       "                                                    min_samples_split=2,\n",
       "                                                    min_weight_fraction_leaf=0.0,\n",
       "                                                    n_estimators=100, n_job...\n",
       "                                        'min_samples_leaf': <scipy.stats._distn_infrastructure.rv_frozen object at 0x7f50efb9a1d0>,\n",
       "                                        'min_samples_split': <scipy.stats._distn_infrastructure.rv_frozen object at 0x7f50f055acf8>,\n",
       "                                        'n_estimators': <scipy.stats._distn_infrastructure.rv_frozen object at 0x7f50f055aef0>},\n",
       "                   pre_dispatch='2*n_jobs', random_state=25, refit=True,\n",
       "                   return_train_score=False, scoring='f1', verbose=0)"
      ]
     },
     "execution_count": 74,
     "metadata": {
      "tags": []
     },
     "output_type": "execute_result"
    }
   ],
   "source": [
    "start_time = time()\n",
    "param_dist = {\"n_estimators\":sp_randint(105,125),\n",
    "              \"max_depth\": sp_randint(10,15),\n",
    "              \"min_samples_split\": sp_randint(110,190),\n",
    "              \"min_samples_leaf\": sp_randint(25,65)}\n",
    "\n",
    "rforest = RandomForestClassifier(random_state=25,n_jobs=-1)\n",
    "\n",
    "rf_random = RandomizedSearchCV(rforest, param_distributions=param_dist,\n",
    "                                   n_iter=5,cv=10,scoring='f1',random_state=25)\n",
    "\n",
    "rf_random.fit(x_train,y_train)"
   ]
  },
  {
   "cell_type": "code",
   "execution_count": 75,
   "metadata": {
    "colab": {
     "base_uri": "https://localhost:8080/",
     "height": 51
    },
    "colab_type": "code",
    "id": "1U5uY8tJ-cu-",
    "outputId": "75d50fcf-c896-4d20-a143-875e4a07428b"
   },
   "outputs": [
    {
     "name": "stdout",
     "output_type": "stream",
     "text": [
      "mean test scores [0.9352483  0.93644392 0.9336812  0.93504106 0.93730751]\n",
      "--- 263.26150846481323 seconds ---\n"
     ]
    }
   ],
   "source": [
    "print('mean test scores',rf_random.cv_results_['mean_test_score'])\n",
    "print(\"--- %s seconds ---\" % (time() - start_time))"
   ]
  },
  {
   "cell_type": "code",
   "execution_count": 76,
   "metadata": {
    "colab": {
     "base_uri": "https://localhost:8080/",
     "height": 153
    },
    "colab_type": "code",
    "id": "MZIgJ2EtP5NJ",
    "outputId": "384fa36f-dc6b-40ba-c7fe-5505379532a0"
   },
   "outputs": [
    {
     "name": "stdout",
     "output_type": "stream",
     "text": [
      "RandomForestClassifier(bootstrap=True, ccp_alpha=0.0, class_weight=None,\n",
      "                       criterion='gini', max_depth=14, max_features='auto',\n",
      "                       max_leaf_nodes=None, max_samples=None,\n",
      "                       min_impurity_decrease=0.0, min_impurity_split=None,\n",
      "                       min_samples_leaf=28, min_samples_split=111,\n",
      "                       min_weight_fraction_leaf=0.0, n_estimators=121,\n",
      "                       n_jobs=-1, oob_score=False, random_state=25, verbose=0,\n",
      "                       warm_start=False)\n"
     ]
    }
   ],
   "source": [
    "print(rf_random.best_estimator_)"
   ]
  },
  {
   "cell_type": "code",
   "execution_count": 77,
   "metadata": {
    "colab": {
     "base_uri": "https://localhost:8080/",
     "height": 34
    },
    "colab_type": "code",
    "id": "3EEcw4FZQLT3",
    "outputId": "07b13336-72f3-4497-c631-139f992e0db2"
   },
   "outputs": [
    {
     "name": "stdout",
     "output_type": "stream",
     "text": [
      "{'max_depth': 14, 'min_samples_leaf': 28, 'min_samples_split': 111, 'n_estimators': 121}\n"
     ]
    }
   ],
   "source": [
    "print(rf_random.best_params_)"
   ]
  },
  {
   "cell_type": "markdown",
   "metadata": {
    "colab_type": "text",
    "id": "zY28rlteSurm"
   },
   "source": [
    "\n",
    "\n",
    "---\n",
    "\n",
    "\n",
    "\n",
    "---\n",
    "\n",
    "\n",
    "\n",
    "**Now then we have the best parameters for our Random Forest Classifier, Let's run Random Forest Classifier again with with these parameters and make predictions, calculate the F1 score, see confusion matrix, and ROC Curve.**"
   ]
  },
  {
   "cell_type": "code",
   "execution_count": 0,
   "metadata": {
    "colab": {},
    "colab_type": "code",
    "id": "VNYi2he4TQRX"
   },
   "outputs": [],
   "source": [
    "rf = RandomForestClassifier(bootstrap=True, ccp_alpha=0.0, class_weight=None,\n",
    "                       criterion='gini', max_depth=14, max_features='auto',\n",
    "                       max_leaf_nodes=None, max_samples=None,\n",
    "                       min_impurity_decrease=0.0, min_impurity_split=None,\n",
    "                       min_samples_leaf=28, min_samples_split=111,\n",
    "                       min_weight_fraction_leaf=0.0, n_estimators=121,\n",
    "                       n_jobs=-1, oob_score=False, random_state=25, verbose=0,\n",
    "                       warm_start=False)"
   ]
  },
  {
   "cell_type": "code",
   "execution_count": 0,
   "metadata": {
    "colab": {},
    "colab_type": "code",
    "id": "CAL0puNqT6J5"
   },
   "outputs": [],
   "source": [
    "rf.fit(x_train,y_train)\n",
    "rf_train_pred = rf.predict(x_train)\n",
    "rf_test_pred = rf.predict(x_test)"
   ]
  },
  {
   "cell_type": "markdown",
   "metadata": {
    "colab_type": "text",
    "id": "HGEo5o1-mxGb"
   },
   "source": [
    "#Evaluation\n",
    "Now after our model is trained we will test our model performance."
   ]
  },
  {
   "cell_type": "markdown",
   "metadata": {
    "colab_type": "text",
    "id": "34lTrvJyUhUw"
   },
   "source": [
    "* **F1 Score**\n",
    "\n",
    " The F1 score can be interpreted as a weighted average of the precision and recall, where an F1 score reaches its best value at 1 and worst score at 0.\n",
    " \n",
    "*Let's check the F1 score of Train and Test*\n"
   ]
  },
  {
   "cell_type": "code",
   "execution_count": 85,
   "metadata": {
    "colab": {
     "base_uri": "https://localhost:8080/",
     "height": 51
    },
    "colab_type": "code",
    "id": "3Zf27dQcUbeN",
    "outputId": "47794595-870e-474a-db74-7148672bacac"
   },
   "outputs": [
    {
     "name": "stdout",
     "output_type": "stream",
     "text": [
      "F1 Train Score: 0.9382677032635948\n",
      "F1 Test Score: 0.9313546745813016\n"
     ]
    }
   ],
   "source": [
    "print('F1 Train Score:', f1_score(y_train,rf_train_pred))\n",
    "print('F1 Test Score:', f1_score(y_test,rf_test_pred))"
   ]
  },
  {
   "cell_type": "markdown",
   "metadata": {
    "colab_type": "text",
    "id": "uV5aOfNQXqTP"
   },
   "source": [
    "* **Classification Report of Confusion Matrix and Accuracy**\n",
    "\n",
    " A confusion matrix is often used to describe the performance of a classification model. And is a summary of prediction results on a classification problem. \n",
    " \n",
    " The number of correct and incorrect predictions are summarized with count values and broken down by each class.\n",
    "> Train Confusion Matrix\n",
    "\n",
    "\n",
    "\n"
   ]
  },
  {
   "cell_type": "code",
   "execution_count": 87,
   "metadata": {
    "colab": {
     "base_uri": "https://localhost:8080/",
     "height": 238
    },
    "colab_type": "code",
    "id": "fxlHIlSKXgNf",
    "outputId": "6956ce5c-e5ad-4b23-84ee-ea305ddaec3e"
   },
   "outputs": [
    {
     "name": "stdout",
     "output_type": "stream",
     "text": [
      "Classification Report: \n",
      "               precision    recall  f1-score   support\n",
      "\n",
      "           0       0.90      0.99      0.94     50187\n",
      "           1       0.99      0.89      0.94     49814\n",
      "\n",
      "    accuracy                           0.94    100001\n",
      "   macro avg       0.95      0.94      0.94    100001\n",
      "weighted avg       0.95      0.94      0.94    100001\n",
      "\n",
      "============================================================\n",
      "Accuracy: \n",
      " 94.140058599414\n"
     ]
    }
   ],
   "source": [
    "from sklearn.metrics import classification_report,confusion_matrix\n",
    "print('Classification Report: \\n', classification_report(y_train,rf_train_pred))\n",
    "\n",
    "print('='*60)\n",
    "\n",
    "from sklearn.metrics import accuracy_score\n",
    "accurracy = accuracy_score(y_train,rf_train_pred)\n",
    "print('Accuracy: \\n', accurracy*100)"
   ]
  },
  {
   "cell_type": "markdown",
   "metadata": {
    "colab_type": "text",
    "id": "519EGLtIX7ni"
   },
   "source": [
    " >Test Confusion Matrix\n",
    "\n",
    "\n"
   ]
  },
  {
   "cell_type": "code",
   "execution_count": 86,
   "metadata": {
    "colab": {
     "base_uri": "https://localhost:8080/",
     "height": 238
    },
    "colab_type": "code",
    "id": "W_NhUvN1VCNb",
    "outputId": "910e1aee-7ece-4c3f-da4b-cfcf602b4a42"
   },
   "outputs": [
    {
     "name": "stdout",
     "output_type": "stream",
     "text": [
      "Classification Report: \n",
      "               precision    recall  f1-score   support\n",
      "\n",
      "           0       0.89      0.99      0.94     25088\n",
      "           1       0.99      0.88      0.93     24913\n",
      "\n",
      "    accuracy                           0.94     50001\n",
      "   macro avg       0.94      0.94      0.94     50001\n",
      "weighted avg       0.94      0.94      0.94     50001\n",
      "\n",
      "============================================================\n",
      "Accuracy: \n",
      " 93.52412951740965\n"
     ]
    }
   ],
   "source": [
    "from sklearn.metrics import classification_report,confusion_matrix\n",
    "print('Classification Report: \\n', classification_report(y_test,rf_test_pred))\n",
    "\n",
    "print('='*60)\n",
    "\n",
    "from sklearn.metrics import accuracy_score\n",
    "accurracy = accuracy_score(y_test,rf_test_pred)\n",
    "print('Accuracy: \\n', accurracy*100)"
   ]
  },
  {
   "cell_type": "markdown",
   "metadata": {
    "colab_type": "text",
    "id": "RS2Vlm1HY981"
   },
   "source": [
    "Now Let's Visualise the Confusion Matrix, Precision Matrix and Recall Matrix"
   ]
  },
  {
   "cell_type": "code",
   "execution_count": 0,
   "metadata": {
    "colab": {},
    "colab_type": "code",
    "id": "6grrhYkLXWSH"
   },
   "outputs": [],
   "source": [
    "def plot_matrix(test_y,pred_y):\n",
    "  A = confusion_matrix(test_y,pred_y) #Confusion Matrix\n",
    "\n",
    "  B = (((A.T)/(A.sum(axis=1))).T) #Precision Matrix\n",
    "\n",
    "  C = (A/A.sum(axis=0)) #Recall Matrix\n",
    "\n",
    "  plt.figure(figsize=(20,4))\n",
    "\n",
    "  labels= [0,1]\n",
    "  cmap= sns.light_palette('blue')\n",
    "\n",
    "  #Confusion Matrix\n",
    "  plt.subplot(1,3,1)\n",
    "  sns.heatmap(A, annot=True, cmap=cmap, fmt=\".3f\", xticklabels=labels, yticklabels=labels)\n",
    "  plt.xlabel('Predicted Class')\n",
    "  plt.ylabel('Original Class')\n",
    "  plt.title(\"Confusion matrix\")\n",
    "\n",
    "  #Precision Matrix\n",
    "  plt.subplot(1,3,2)\n",
    "  sns.heatmap(B, annot=True, cmap=cmap, fmt=\".3f\", xticklabels=labels, yticklabels=labels)\n",
    "  plt.xlabel('Predicted Class')\n",
    "  plt.ylabel('Original Class')\n",
    "  plt.title(\"Precision matrix\")\n",
    "  \n",
    "  #Recall Marrix\n",
    "  plt.subplot(1,3,3)\n",
    "  sns.heatmap(C, annot=True, cmap=cmap, fmt=\".3f\", xticklabels=labels, yticklabels=labels)\n",
    "  plt.xlabel('Predicted Class')\n",
    "  plt.ylabel('Original Class')\n",
    "  plt.title(\"Recall matrix\")\n",
    "\n",
    "  plt.show()"
   ]
  },
  {
   "cell_type": "markdown",
   "metadata": {
    "colab_type": "text",
    "id": "f6QQJZydc4fo"
   },
   "source": [
    "Confusion Matrix, Precision Matrix and Recall Matrix of Train"
   ]
  },
  {
   "cell_type": "code",
   "execution_count": 93,
   "metadata": {
    "colab": {
     "base_uri": "https://localhost:8080/",
     "height": 312
    },
    "colab_type": "code",
    "id": "G-tCOLTUb8P2",
    "outputId": "f255eae2-c393-4e43-dedd-46eb26963b88"
   },
   "outputs": [
    {
     "name": "stdout",
     "output_type": "stream",
     "text": [
      "Train Matrix\n"
     ]
    },
    {
     "data": {
      "image/png": "[encoded data removed]",
      "text/plain": [
       "<Figure size 1440x288 with 6 Axes>"
      ]
     },
     "metadata": {
      "needs_background": "light",
      "tags": []
     },
     "output_type": "display_data"
    }
   ],
   "source": [
    "print('Train Matrix')\n",
    "plot_matrix(y_train,rf_train_pred)"
   ]
  },
  {
   "cell_type": "markdown",
   "metadata": {
    "colab_type": "text",
    "id": "XOj9CznvdD5V"
   },
   "source": [
    "Confusion Matrix, Precision Matrix and Recall Matrix of Test"
   ]
  },
  {
   "cell_type": "code",
   "execution_count": 94,
   "metadata": {
    "colab": {
     "base_uri": "https://localhost:8080/",
     "height": 312
    },
    "colab_type": "code",
    "id": "ZkM1_YDMcOU9",
    "outputId": "ce00074b-84c5-4c69-e44e-a0600db0a977"
   },
   "outputs": [
    {
     "name": "stdout",
     "output_type": "stream",
     "text": [
      "Test Matrix\n"
     ]
    },
    {
     "data": {
      "image/png": "[encoded data removed]",
      "text/plain": [
       "<Figure size 1440x288 with 6 Axes>"
      ]
     },
     "metadata": {
      "needs_background": "light",
      "tags": []
     },
     "output_type": "display_data"
    }
   ],
   "source": [
    "print('Test Matrix')\n",
    "plot_matrix(y_test,rf_test_pred)"
   ]
  },
  {
   "cell_type": "markdown",
   "metadata": {
    "colab_type": "text",
    "id": "MRsu8qvioReR"
   },
   "source": [
    "From this,\n",
    "1. We can see that 291 are falsely classified as 'Negative' as they where actually 'Positive'\n",
    "\n",
    "2. And Similarly 2947 were wrongly classified as 'Positive'.\n",
    "\n",
    "\n",
    "---\n",
    "\n"
   ]
  },
  {
   "cell_type": "markdown",
   "metadata": {
    "colab_type": "text",
    "id": "KrLswO9EeC85"
   },
   "source": [
    "* **ROC Curve and AUC**\n",
    "\n",
    " ROC curve is way for measuring the performance of a classification model. Higher the area under the curve(AUC), better the model is at predicting 0s as 0s and 1s as 1s.\n",
    "\n",
    " The ROC curve is plotted with True Positive Rate against the False Positive Rate where True Positive Rate is on y-axis and False Positive Rate is on the x-axis. The objective is to maximize area under the curve(AUC).\n",
    " "
   ]
  },
  {
   "cell_type": "code",
   "execution_count": 97,
   "metadata": {
    "colab": {
     "base_uri": "https://localhost:8080/",
     "height": 295
    },
    "colab_type": "code",
    "id": "cBEYVENQcy8U",
    "outputId": "14174bcb-e10b-41dc-bf1c-a282a6dbc779"
   },
   "outputs": [
    {
     "data": {
      "image/png": "[encoded data removed]",
      "text/plain": [
       "<Figure size 432x288 with 1 Axes>"
      ]
     },
     "metadata": {
      "needs_background": "light",
      "tags": []
     },
     "output_type": "display_data"
    }
   ],
   "source": [
    "from sklearn.metrics import roc_curve, auc\n",
    "False_Positive_Rate,True_Positive_Rate,Thresholds = roc_curve(y_test,rf_test_pred)\n",
    "auc_sc = auc(False_Positive_Rate, True_Positive_Rate)\n",
    "plt.plot(False_Positive_Rate, True_Positive_Rate, color='red',label='ROC curve (area = %0.2f)' % auc_sc)\n",
    "plt.xlabel('False Positive Rate')\n",
    "plt.ylabel('True Positive Rate')\n",
    "plt.title('Receiver operating characteristic with Test')\n",
    "plt.legend()\n",
    "plt.show()"
   ]
  },
  {
   "cell_type": "markdown",
   "metadata": {
    "colab_type": "text",
    "id": "y40U-PFcftpa"
   },
   "source": [
    "\n",
    "\n",
    "---\n",
    "**Now We Will visualise the important Features of the Dataset**\n",
    "\n"
   ]
  },
  {
   "cell_type": "code",
   "execution_count": 100,
   "metadata": {
    "colab": {
     "base_uri": "https://localhost:8080/",
     "height": 730
    },
    "colab_type": "code",
    "id": "phQRek6TfUGs",
    "outputId": "f04eea00-4725-42b7-ff01-9ddd3b4ca73b"
   },
   "outputs": [
    {
     "data": {
      "image/png": "[encoded data removed]",
      "text/plain": [
       "<Figure size 720x864 with 1 Axes>"
      ]
     },
     "metadata": {
      "needs_background": "light",
      "tags": []
     },
     "output_type": "display_data"
    }
   ],
   "source": [
    "features = x_train.columns\n",
    "importances = rf.feature_importances_\n",
    "indices = (np.argsort(importances))[-25:]\n",
    "plt.figure(figsize=(10,12))\n",
    "plt.title('Feature Importances')\n",
    "plt.barh(range(len(indices)), importances[indices], color='r', align='center')\n",
    "plt.yticks(range(len(indices)), [features[i] for i in indices])\n",
    "plt.xlabel('Relative Importance')\n",
    "plt.show()"
   ]
  },
  {
   "cell_type": "markdown",
   "metadata": {
    "colab_type": "text",
    "id": "p_rICWCSpw0o"
   },
   "source": [
    "Above Figure show that most important features of our dataset are follows_back, shortest_path, jaccard distance, Katz Centrality, and WCC."
   ]
  },
  {
   "cell_type": "code",
   "execution_count": 0,
   "metadata": {
    "colab": {},
    "colab_type": "code",
    "id": "zBsyUcZggQm4"
   },
   "outputs": [],
   "source": []
  }
 ],
 "metadata": {
  "colab": {
   "name": "Link_Pred3.ipynb",
   "provenance": []
  },
  "kernelspec": {
   "display_name": "Python 3",
   "language": "python",
   "name": "python3"
  }
 },
 "nbformat": 4,
 "nbformat_minor": 1
}
