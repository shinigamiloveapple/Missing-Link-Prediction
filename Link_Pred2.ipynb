{
 "cells": [
  {
   "cell_type": "markdown",
   "metadata": {
    "colab_type": "text",
    "id": "yaFCOxKbd3K6"
   },
   "source": [
    "Now we will generate some features for our Train and Test csv files and Prepare a final dataframe to help our train our model better and perform better."
   ]
  },
  {
   "cell_type": "code",
   "execution_count": 0,
   "metadata": {
    "colab": {},
    "colab_type": "code",
    "id": "fm4LIRUG5xwB"
   },
   "outputs": [],
   "source": [
    "import networkx as nx\n",
    "import pickle\n",
    "import random\n",
    "import pandas as pd"
   ]
  },
  {
   "cell_type": "code",
   "execution_count": 3,
   "metadata": {
    "colab": {
     "base_uri": "https://localhost:8080/",
     "height": 119
    },
    "colab_type": "code",
    "id": "vUPoJPg60ZUz",
    "outputId": "a125916d-324f-44ad-891b-4c3de47c2907"
   },
   "outputs": [
    {
     "name": "stdout",
     "output_type": "stream",
     "text": [
      "Name: \n",
      "Type: DiGraph\n",
      "Number of nodes: 1780722\n",
      "Number of edges: 7550015\n",
      "Average in degree:   4.2399\n",
      "Average out degree:   4.2399\n"
     ]
    }
   ],
   "source": [
    "f=nx.read_edgelist('train_pos_after_eda.csv',delimiter=',',create_using=nx.DiGraph(),nodetype=int)\n",
    "print(nx.info(f))"
   ]
  },
  {
   "cell_type": "markdown",
   "metadata": {
    "colab_type": "text",
    "id": "8VyHY67_6FDk"
   },
   "source": [
    "#Feauture Engneering\n",
    "\n",
    "**1. Jaccard Disance**\n",
    "\n",
    "  $$ J(X,Y) = \\frac{|X∩Y|} {|X∪Y|} $$\n",
    "\n",
    "   The jaccard Index measures the similarity between finite sets, and is\n",
    "   defined as the size of intersection divided by the union of the sample sets.\n",
    "\n",
    "   The Jaccard distance which measures the similarity between sample sets is\n",
    "   complimentary to jaccard index and is obtained by subtracting the jaccard\n",
    "   index by 1.\n",
    "    \n",
    "  $$ Dj(X,Y) = 1- J(X,Y) $$  "
   ]
  },
  {
   "cell_type": "code",
   "execution_count": 0,
   "metadata": {
    "colab": {},
    "colab_type": "code",
    "id": "CoETiDhI53hD"
   },
   "outputs": [],
   "source": [
    "#Followees Jaccard\n",
    "def followees_jaccard(i,j):\n",
    "    try:\n",
    "        if len(set(f.successors(i))) == 0  | len(set(f.successors(j))) == 0:\n",
    "            return 0\n",
    "        arc = (len(set(f.successors(i)).intersection(set(f.successors(j)))))/\\\n",
    "                                    (len(set(f.successors(i)).union(set(f.successors(j)))))\n",
    "    except:\n",
    "        return 0\n",
    "    return arc"
   ]
  },
  {
   "cell_type": "code",
   "execution_count": 32,
   "metadata": {
    "colab": {
     "base_uri": "https://localhost:8080/",
     "height": 34
    },
    "colab_type": "code",
    "id": "Z7kNow7P79Ly",
    "outputId": "05843531-4d08-4425-8bb2-07edc3a5a3d0"
   },
   "outputs": [
    {
     "data": {
      "text/plain": [
       "0.0"
      ]
     },
     "execution_count": 32,
     "metadata": {
      "tags": []
     },
     "output_type": "execute_result"
    }
   ],
   "source": [
    "followees_jaccard(1,40)"
   ]
  },
  {
   "cell_type": "code",
   "execution_count": 0,
   "metadata": {
    "colab": {},
    "colab_type": "code",
    "id": "AIfxS9ne781t"
   },
   "outputs": [],
   "source": [
    "#Followers Jaccard\n",
    "def followers_jaccard(i,j):\n",
    "    try:\n",
    "        if len(set(f.predecessors(i))) == 0  | len(set(f.predecessors(j))) == 0:\n",
    "            return 0\n",
    "        arc = (len(set(f.predecessors(i)).intersection(set(f.predecessors(j)))))/\\\n",
    "                                 (len(set(f.predecessors(i)).union(set(f.predecessors(j)))))\n",
    "        return arc\n",
    "    except:\n",
    "        return 0"
   ]
  },
  {
   "cell_type": "code",
   "execution_count": 34,
   "metadata": {
    "colab": {
     "base_uri": "https://localhost:8080/",
     "height": 34
    },
    "colab_type": "code",
    "id": "IGc4CClD78nt",
    "outputId": "0b0f64a6-faf6-424c-966c-9e34f081e49a"
   },
   "outputs": [
    {
     "data": {
      "text/plain": [
       "0"
      ]
     },
     "execution_count": 34,
     "metadata": {
      "tags": []
     },
     "output_type": "execute_result"
    }
   ],
   "source": [
    "followers_jaccard(2455,2350)"
   ]
  },
  {
   "cell_type": "markdown",
   "metadata": {
    "colab_type": "text",
    "id": "BllPGosQ8Ogh"
   },
   "source": [
    "**2. Cosine Distance**\n",
    "$$\n",
    "CosineDistance = \\frac{|X\\cap Y|}{SQRT(|X|\\cdot|Y|)} \n",
    "$$\n",
    "\n",
    "\n",
    "   Cosine distance is a metric used to measure how similar the documents are \n",
    "  irrespective of their size. Mathematically, it measures the cosine of the \n",
    "  angle between two vectors projected in a multi-dimensional space."
   ]
  },
  {
   "cell_type": "code",
   "execution_count": 0,
   "metadata": {
    "colab": {},
    "colab_type": "code",
    "id": "BTewKswQ78Tn"
   },
   "outputs": [],
   "source": [
    "#Followees Cosine\n",
    "def followees_cosine(i,j):\n",
    "    try:\n",
    "        if len(set(f.successors(i))) == 0  | len(set(f.successors(j))) == 0:\n",
    "            return 0\n",
    "        arc = (len(set(f.successors(i)).intersection(set(f.successors(j)))))/\\\n",
    "                                    (math.sqrt(len(set(f.successors(i)))*len((set(f.successors(j))))))\n",
    "        return arc\n",
    "    except:\n",
    "        return 0"
   ]
  },
  {
   "cell_type": "code",
   "execution_count": 9,
   "metadata": {
    "colab": {
     "base_uri": "https://localhost:8080/",
     "height": 34
    },
    "colab_type": "code",
    "id": "WIF5dDxh8pwt",
    "outputId": "85b4bff3-cd3b-432c-d518-698175a9d6ab"
   },
   "outputs": [
    {
     "data": {
      "text/plain": [
       "0"
      ]
     },
     "execution_count": 9,
     "metadata": {
      "tags": []
     },
     "output_type": "execute_result"
    }
   ],
   "source": [
    "followees_cosine (1455,4447)"
   ]
  },
  {
   "cell_type": "code",
   "execution_count": 0,
   "metadata": {
    "colab": {},
    "colab_type": "code",
    "id": "it7HofsO8p9g"
   },
   "outputs": [],
   "source": [
    "#Followers Cosine\n",
    "def followers_cosine(i,j):\n",
    "    try:\n",
    "        \n",
    "        if len(set(f.predecessors(i))) == 0  | len(set(f.predecessors(j))) == 0:\n",
    "            return 0\n",
    "        arc = (len(set(f.predecessors(i)).intersection(set(f.predecessors(j)))))/\\\n",
    "                                     (math.sqrt(len(set(f.predecessors(i))))*(len(set(f.predecessors(j)))))\n",
    "        return arc\n",
    "    except:\n",
    "        return 0"
   ]
  },
  {
   "cell_type": "code",
   "execution_count": 11,
   "metadata": {
    "colab": {
     "base_uri": "https://localhost:8080/",
     "height": 34
    },
    "colab_type": "code",
    "id": "ORRy2fyu8qLU",
    "outputId": "ec2c7f12-c2e2-4c4a-96fb-e6f863850e5d"
   },
   "outputs": [
    {
     "data": {
      "text/plain": [
       "0"
      ]
     },
     "execution_count": 11,
     "metadata": {
      "tags": []
     },
     "output_type": "execute_result"
    }
   ],
   "source": [
    "followers_cosine(1455,4447)"
   ]
  },
  {
   "cell_type": "markdown",
   "metadata": {
    "colab_type": "text",
    "id": "PVVMJLZP9qHd"
   },
   "source": [
    "**3.Adar Index**\n",
    "\n",
    "Adamic/Adar measures is defined as inverted sum of degrees of common neighbors for given two vertices.\n",
    "$$A(x,y)=\\sum_{u \\in N(x) \\cap N(y)}\\frac{1}{log(|N(u)|)}$$\n",
    "\n",
    "This metric measures the closeness of two nodes based on their shared neighbors.A value 0 indicates that two nodes are not close, while higher values indicate nodes are close."
   ]
  },
  {
   "cell_type": "code",
   "execution_count": 0,
   "metadata": {
    "colab": {},
    "colab_type": "code",
    "id": "KlS_Hhbd8qiw"
   },
   "outputs": [],
   "source": [
    "def adar_in(a,b):\n",
    "    sum=0\n",
    "    try:\n",
    "        a=list(set(f.successors(a)).intersection(set(f.successors(b))))\n",
    "        if len(a)!=0:\n",
    "            for i in a:\n",
    "                sum=sum+(1/np.log10(len(list(f.predecessors(i)))))\n",
    "            return sum\n",
    "        else:\n",
    "            return 0\n",
    "    except:\n",
    "        return 0"
   ]
  },
  {
   "cell_type": "markdown",
   "metadata": {
    "colab_type": "text",
    "id": "i-9P501J_Mbz"
   },
   "source": [
    "**4. Follow back**\n",
    "\n",
    "This is a simple feature to find out if a node follows back after being followed by a node."
   ]
  },
  {
   "cell_type": "code",
   "execution_count": 0,
   "metadata": {
    "colab": {},
    "colab_type": "code",
    "id": "-cITxa01_IAH"
   },
   "outputs": [],
   "source": [
    "def follows_back(a,b):\n",
    "    if f.has_edge(b,a):\n",
    "        return 1\n",
    "    else:\n",
    "        return 0"
   ]
  },
  {
   "cell_type": "markdown",
   "metadata": {
    "colab_type": "text",
    "id": "EVZw-hEM_oSn"
   },
   "source": [
    "**5. Shortest Path**\n",
    "\n",
    "Shortest path is the path between two nodes such that \n",
    "  the sum of their weights is minimum."
   ]
  },
  {
   "cell_type": "code",
   "execution_count": 0,
   "metadata": {
    "colab": {},
    "colab_type": "code",
    "id": "49rkVT7s_Tp4"
   },
   "outputs": [],
   "source": [
    "def shortest_path_length(a,b):\n",
    "    s=-1\n",
    "    try:\n",
    "        if f.has_edge(a,b):\n",
    "            f.remove_edge(a,b)\n",
    "            s= nx.shortest_path_length(f,source=a,target=b)\n",
    "            f.add_edge(a,b)\n",
    "        else:\n",
    "            s= nx.shortest_path_length(f,source=a,target=b)\n",
    "        return s\n",
    "    except:\n",
    "        return -1"
   ]
  },
  {
   "cell_type": "markdown",
   "metadata": {
    "colab_type": "text",
    "id": "8kYWBffy_1ZO"
   },
   "source": [
    "**6. Weakly Connected Component**\n",
    "\n",
    "A particular component is said to be strongly connected if there is at least one path from any given node to any other node.\n",
    "\n",
    "A directed graph is weakly connected if replacing all its directed edges with undirected edges. Therefore, every strongly connected component is a weakly connected component.However, if it is not a strongly connected component, then to check whether it is a weakly connected component remove the directions of the edges and see if still there is atleast one path from any given node to any other node."
   ]
  },
  {
   "cell_type": "code",
   "execution_count": 0,
   "metadata": {
    "colab": {},
    "colab_type": "code",
    "id": "KxdZcwjG_0dC"
   },
   "outputs": [],
   "source": [
    "wcc=list(nx.weakly_connected_components(f))\n",
    "def same_wcc(a,b):\n",
    "    index = []\n",
    "    if f.has_edge(b,a):\n",
    "        return 1\n",
    "    if f.has_edge(a,b):\n",
    "            for i in wcc:\n",
    "                if a in i:\n",
    "                    index= i\n",
    "                    break\n",
    "            if (b in index):\n",
    "                f.remove_edge(a,b)\n",
    "                if shortest_path_length(a,b)==-1:\n",
    "                    f.add_edge(a,b)\n",
    "                    return 0\n",
    "                else:\n",
    "                    f.add_edge(a,b)\n",
    "                    return 1\n",
    "            else:\n",
    "                return 0\n",
    "    else:\n",
    "            for i in wcc:\n",
    "                if a in i:\n",
    "                    index= i\n",
    "                    break\n",
    "            if(b in index):\n",
    "                return 1\n",
    "            else:\n",
    "                return 0"
   ]
  },
  {
   "cell_type": "markdown",
   "metadata": {
    "colab_type": "text",
    "id": "GnMcjH_dB8qN"
   },
   "source": [
    "**7. Page Rank**\n",
    "\n",
    "PageRank works by counting the number and quality of links to a Nodes to determine a rough estimate of how important the Node is. Here, we want to calculate the PageRank around a each node pair(source and destination) in the training set."
   ]
  },
  {
   "cell_type": "code",
   "execution_count": 0,
   "metadata": {
    "colab": {},
    "colab_type": "code",
    "id": "3NJQfNsRA902"
   },
   "outputs": [],
   "source": [
    "page_rank = nx.pagerank(f, alpha=0.85)\n",
    "pickle.dump(page_rank,open('page_rank.p','wb'))"
   ]
  },
  {
   "cell_type": "code",
   "execution_count": 0,
   "metadata": {
    "colab": {},
    "colab_type": "code",
    "id": "ZOKTLQt506xK"
   },
   "outputs": [],
   "source": [
    "mean_pr=float(sum(page_rank.values())) / len(page_rank)"
   ]
  },
  {
   "cell_type": "code",
   "execution_count": 17,
   "metadata": {
    "colab": {
     "base_uri": "https://localhost:8080/",
     "height": 68
    },
    "colab_type": "code",
    "id": "t7wd4zidC-Ao",
    "outputId": "2b6bdd1a-8bc1-49d0-f57b-2107fe0779fa"
   },
   "outputs": [
    {
     "name": "stdout",
     "output_type": "stream",
     "text": [
      "Mean: 5.615699699389075e-07\n",
      "Minimum: 1.6556497245737814e-07\n",
      "Maximum: 2.7098251341935827e-05\n"
     ]
    }
   ],
   "source": [
    "print('Mean:', sum(page_rank.values())/ len(page_rank))\n",
    "print('Minimum:' , page_rank[min(page_rank, key=lambda k: page_rank[k])])\n",
    "print('Maximum:', page_rank[max(page_rank, key=lambda k: page_rank[k])])"
   ]
  },
  {
   "cell_type": "markdown",
   "metadata": {
    "colab_type": "text",
    "id": "TDUJGNRjDhPE"
   },
   "source": [
    "For all the data points which are part of the test dataset but are not in the training dataset we will not have the pagerank for these data points.For these data points,we will use the mean pagerank as imputation."
   ]
  },
  {
   "cell_type": "markdown",
   "metadata": {
    "colab_type": "text",
    "id": "rov7Yxq2ETGw"
   },
   "source": [
    "**8. Katz Centrality**\n",
    "\n",
    "Katz centrality of a node is a measure of centrality in a network. Unlike typical centrality measures which consider only the shortest path between a pair of nodes, Katz centrality measures influence by taking into account the total number of walks between a pair of nodes.\n",
    "\n",
    "It is similar to Google’s PageRank.\n",
    "\n",
    "Lets compute the Katz centrality for our network."
   ]
  },
  {
   "cell_type": "code",
   "execution_count": 0,
   "metadata": {
    "colab": {},
    "colab_type": "code",
    "id": "EHrWFuS-EXnB"
   },
   "outputs": [],
   "source": [
    "katz = nx.katz.katz_centrality(f,alpha=0.005,beta=1)\n",
    "pickle.dump(katz,open('katz.p','wb'))"
   ]
  },
  {
   "cell_type": "code",
   "execution_count": 0,
   "metadata": {
    "colab": {},
    "colab_type": "code",
    "id": "Plh2AwUR01iF"
   },
   "outputs": [],
   "source": [
    "mean_katz=float(sum(katz.values())) / len(katz)"
   ]
  },
  {
   "cell_type": "code",
   "execution_count": 19,
   "metadata": {
    "colab": {
     "base_uri": "https://localhost:8080/",
     "height": 68
    },
    "colab_type": "code",
    "id": "sHBqn9RlFMvl",
    "outputId": "023a4d38-c910-4028-d8ac-13da215d9c18"
   },
   "outputs": [
    {
     "name": "stdout",
     "output_type": "stream",
     "text": [
      "Min 0.0007313532484065916\n",
      "Max 0.003394554981699122\n",
      "Mean 0.0007483800935562018\n"
     ]
    }
   ],
   "source": [
    "print('Min',katz[min(katz, key=katz.get)])\n",
    "print('Max',katz[max(katz, key=katz.get)])\n",
    "print('Mean',float(sum(katz.values())) / len(katz))"
   ]
  },
  {
   "cell_type": "markdown",
   "metadata": {
    "colab_type": "text",
    "id": "Y_Nvk2LIegWf"
   },
   "source": [
    "#Sample Train & Test \n",
    "**Randomly select sample of test and train dataframe.**\n"
   ]
  },
  {
   "cell_type": "markdown",
   "metadata": {
    "colab_type": "text",
    "id": "AC3Aqip0teQI"
   },
   "source": [
    "\n",
    "---\n",
    "Lets create 50000 points of training samples and 5000 points of test samples."
   ]
  },
  {
   "cell_type": "code",
   "execution_count": 0,
   "metadata": {
    "colab": {},
    "colab_type": "code",
    "id": "UCCGcNmFqHQS"
   },
   "outputs": [],
   "source": [
    "filename = \"train_after_eda.csv\"\n",
    "n_train = sum(1 for line in open(filename)) \n",
    "s = 100000 \n",
    "skip_train = sorted(random.sample(range(1,n_train+1),n_train-s))"
   ]
  },
  {
   "cell_type": "code",
   "execution_count": 0,
   "metadata": {
    "colab": {},
    "colab_type": "code",
    "id": "b2Dn0-wFqK24"
   },
   "outputs": [],
   "source": [
    "filename = \"test_after_eda.csv\"\n",
    "n_test = sum(1 for line in open(filename)) \n",
    "s = 50000 \n",
    "skip_test = sorted(random.sample(range(1,n_test+1),n_test-s))"
   ]
  },
  {
   "cell_type": "code",
   "execution_count": 26,
   "metadata": {
    "colab": {
     "base_uri": "https://localhost:8080/",
     "height": 85
    },
    "colab_type": "code",
    "id": "2fUfdwJcrmBX",
    "outputId": "4b971517-bf40-45c3-b6bc-8f90ad58f9c9"
   },
   "outputs": [
    {
     "name": "stdout",
     "output_type": "stream",
     "text": [
      "Number of rows in the train data file: 15100030\n",
      "Number of rows we are going to elimiate in train data are 15000030\n",
      "Number of rows in the test data file: 3775008\n",
      "Number of rows we are going to elimiate in test data are 3725008\n"
     ]
    }
   ],
   "source": [
    "print(\"Number of rows in the train data file:\", n_train)\n",
    "print(\"Number of rows we are going to elimiate in train data are\",len(skip_train))\n",
    "print(\"Number of rows in the test data file:\", n_test)\n",
    "print(\"Number of rows we are going to elimiate in test data are\",len(skip_test))"
   ]
  },
  {
   "cell_type": "markdown",
   "metadata": {
    "colab_type": "text",
    "id": "HbQMeAExA_FR"
   },
   "source": [
    "#Final Dataframe"
   ]
  },
  {
   "cell_type": "code",
   "execution_count": 28,
   "metadata": {
    "colab": {
     "base_uri": "https://localhost:8080/",
     "height": 128
    },
    "colab_type": "code",
    "id": "vgAEyEVSBCEO",
    "outputId": "db786d8f-198f-4d92-bdb2-d79dd38a2641"
   },
   "outputs": [
    {
     "name": "stdout",
     "output_type": "stream",
     "text": [
      "Train Matrix Size  (100001, 3)\n"
     ]
    },
    {
     "data": {
      "text/html": [
       "<div>\n",
       "<style scoped>\n",
       "    .dataframe tbody tr th:only-of-type {\n",
       "        vertical-align: middle;\n",
       "    }\n",
       "\n",
       "    .dataframe tbody tr th {\n",
       "        vertical-align: top;\n",
       "    }\n",
       "\n",
       "    .dataframe thead th {\n",
       "        text-align: right;\n",
       "    }\n",
       "</style>\n",
       "<table border=\"1\" class=\"dataframe\">\n",
       "  <thead>\n",
       "    <tr style=\"text-align: right;\">\n",
       "      <th></th>\n",
       "      <th>source_node</th>\n",
       "      <th>destination_node</th>\n",
       "      <th>indicator_link</th>\n",
       "    </tr>\n",
       "  </thead>\n",
       "  <tbody>\n",
       "    <tr>\n",
       "      <th>0</th>\n",
       "      <td>273084</td>\n",
       "      <td>1505602</td>\n",
       "      <td>1</td>\n",
       "    </tr>\n",
       "    <tr>\n",
       "      <th>1</th>\n",
       "      <td>1284805</td>\n",
       "      <td>1252082</td>\n",
       "      <td>1</td>\n",
       "    </tr>\n",
       "  </tbody>\n",
       "</table>\n",
       "</div>"
      ],
      "text/plain": [
       "   source_node  destination_node  indicator_link\n",
       "0       273084           1505602               1\n",
       "1      1284805           1252082               1"
      ]
     },
     "execution_count": 28,
     "metadata": {
      "tags": []
     },
     "output_type": "execute_result"
    }
   ],
   "source": [
    "df_final_train = pd.read_csv('train_after_eda.csv', skiprows=skip_train, names=['source_node', 'destination_node'])\n",
    "df_final_train['indicator_link'] = pd.read_csv('train_y.csv', skiprows=skip_train, names=['indicator_link'])\n",
    "print(\"Train Matrix Size \",df_final_train.shape)\n",
    "df_final_train.head(2)"
   ]
  },
  {
   "cell_type": "code",
   "execution_count": 68,
   "metadata": {
    "colab": {
     "base_uri": "https://localhost:8080/",
     "height": 128
    },
    "colab_type": "code",
    "id": "4Sk423QqC13Q",
    "outputId": "013e1208-12df-4737-dc06-685af79a02bd"
   },
   "outputs": [
    {
     "name": "stdout",
     "output_type": "stream",
     "text": [
      "Test Matrix Size  (50001, 3)\n"
     ]
    },
    {
     "data": {
      "text/html": [
       "<div>\n",
       "<style scoped>\n",
       "    .dataframe tbody tr th:only-of-type {\n",
       "        vertical-align: middle;\n",
       "    }\n",
       "\n",
       "    .dataframe tbody tr th {\n",
       "        vertical-align: top;\n",
       "    }\n",
       "\n",
       "    .dataframe thead th {\n",
       "        text-align: right;\n",
       "    }\n",
       "</style>\n",
       "<table border=\"1\" class=\"dataframe\">\n",
       "  <thead>\n",
       "    <tr style=\"text-align: right;\">\n",
       "      <th></th>\n",
       "      <th>source_node</th>\n",
       "      <th>destination_node</th>\n",
       "      <th>indicator_link</th>\n",
       "    </tr>\n",
       "  </thead>\n",
       "  <tbody>\n",
       "    <tr>\n",
       "      <th>0</th>\n",
       "      <td>848424</td>\n",
       "      <td>784690</td>\n",
       "      <td>1</td>\n",
       "    </tr>\n",
       "    <tr>\n",
       "      <th>1</th>\n",
       "      <td>1227220</td>\n",
       "      <td>827479</td>\n",
       "      <td>1</td>\n",
       "    </tr>\n",
       "  </tbody>\n",
       "</table>\n",
       "</div>"
      ],
      "text/plain": [
       "   source_node  destination_node  indicator_link\n",
       "0       848424            784690               1\n",
       "1      1227220            827479               1"
      ]
     },
     "execution_count": 68,
     "metadata": {
      "tags": []
     },
     "output_type": "execute_result"
    }
   ],
   "source": [
    "df_final_test = pd.read_csv('test_after_eda.csv', skiprows=skip_test, names=['source_node', 'destination_node'])\n",
    "df_final_test['indicator_link'] = pd.read_csv('test_y.csv', skiprows=skip_test, names=['indicator_link'])\n",
    "print(\"Test Matrix Size \",df_final_test.shape)\n",
    "df_final_test.head(2)"
   ]
  },
  {
   "cell_type": "markdown",
   "metadata": {
    "colab_type": "text",
    "id": "6yQFHfLAFzVa"
   },
   "source": [
    "\n",
    "\n",
    "---\n",
    "\n",
    "\n",
    "\n",
    "---\n",
    "#Mapping Feature Engineering on Final Dataframe\n",
    "\n",
    "\n",
    "---\n",
    "**Jaccard Distance**\n",
    "\n"
   ]
  },
  {
   "cell_type": "code",
   "execution_count": 0,
   "metadata": {
    "colab": {},
    "colab_type": "code",
    "id": "y7TSaEVwGxVH"
   },
   "outputs": [],
   "source": [
    "#Mapping Jaccard Followers on Train and Test Tata\n",
    "df_final_train['followers_jaccard'] = df_final_train.apply(lambda row:\n",
    "\t\t\tfollowers_jaccard(row['source_node'],row['destination_node']),axis=1)\n",
    "\n",
    "\n",
    "df_final_test['followers_jaccard'] = df_final_test.apply(lambda row:\n",
    "\t\t\tfollowers_jaccard(row['source_node'],row['destination_node']),axis=1)\n"
   ]
  },
  {
   "cell_type": "code",
   "execution_count": 0,
   "metadata": {
    "colab": {},
    "colab_type": "code",
    "id": "JAv4J5DWG_CO"
   },
   "outputs": [],
   "source": [
    "#Mapping Jaccard Followees on Train and Test Data\n",
    "df_final_train['followees_jaccard'] = df_final_train.apply(lambda row:\n",
    "\t\t\tfollowees_jaccard(row['source_node'],row['destination_node']),axis=1)\n",
    "\n",
    "df_final_test['followees_jaccard'] = df_final_test.apply(lambda row:\n",
    "\t\t\tfollowees_jaccard(row['source_node'],row['destination_node']),axis=1)"
   ]
  },
  {
   "cell_type": "markdown",
   "metadata": {
    "colab_type": "text",
    "id": "8K8KbdIzHaHS"
   },
   "source": [
    "---\n",
    "\n",
    "\n",
    "**Cosine Distance**"
   ]
  },
  {
   "cell_type": "code",
   "execution_count": 0,
   "metadata": {
    "colab": {},
    "colab_type": "code",
    "id": "hZbgKahXHeGP"
   },
   "outputs": [],
   "source": [
    "#Mapping Cosine Followers on Train and Test Data\n",
    "df_final_train['followers_cosine'] = df_final_train.apply(lambda row:\n",
    "\t\t\tfollowers_cosine(row['source_node'],row['destination_node']),axis=1)\n",
    "\n",
    "df_final_test['followers_cosine'] = df_final_test.apply(lambda row:\n",
    "\t\t\tfollowers_cosine(row['source_node'],row['destination_node']),axis=1)"
   ]
  },
  {
   "cell_type": "code",
   "execution_count": 0,
   "metadata": {
    "colab": {},
    "colab_type": "code",
    "id": "vZVJAy-bIZ9W"
   },
   "outputs": [],
   "source": [
    "#Mapping Cosine Followee on Train and Test Data\n",
    "df_final_train['followees_cosine'] = df_final_train.apply(lambda row:\n",
    "\t\t\tfollowees_cosine(row['source_node'],row['destination_node']),axis=1)\n",
    "\n",
    "df_final_test['followees_cosine'] = df_final_test.apply(lambda row:\n",
    "\t\t\tfollowees_cosine(row['source_node'],row['destination_node']),axis=1)"
   ]
  },
  {
   "cell_type": "markdown",
   "metadata": {
    "colab_type": "text",
    "id": "J4Co7w8lI06L"
   },
   "source": [
    "\n",
    "\n",
    "---\n",
    "**Adar Index**\n"
   ]
  },
  {
   "cell_type": "code",
   "execution_count": 0,
   "metadata": {
    "colab": {},
    "colab_type": "code",
    "id": "wUOvTzlVQiLi"
   },
   "outputs": [],
   "source": [
    "#mapping adar index on train\n",
    "df_final_train['adar_in'] = df_final_train.apply(lambda row:\n",
    "                            adar_in(row['source_node'],row['destination_node']),axis=1)\n",
    "\n",
    "#mapping adar index on test\n",
    "df_final_test['adar_in'] = df_final_test.apply(lambda row:\n",
    "                            adar_in(row['source_node'],row['destination_node']),axis=1)"
   ]
  },
  {
   "cell_type": "markdown",
   "metadata": {
    "colab_type": "text",
    "id": "xMMj1nDKRKa8"
   },
   "source": [
    "\n",
    "\n",
    "---\n",
    "**Follow Back**\n"
   ]
  },
  {
   "cell_type": "code",
   "execution_count": 0,
   "metadata": {
    "colab": {},
    "colab_type": "code",
    "id": "zU9UbrtRROss"
   },
   "outputs": [],
   "source": [
    "#mapping followback or not on train\n",
    "df_final_train['follows_back'] = df_final_train.apply(lambda row:\n",
    "                                follows_back(row['source_node'],row['destination_node']),axis=1)\n",
    "\n",
    "#mapping followback or not on test\n",
    "df_final_test['follows_back'] = df_final_test.apply(lambda row:\n",
    "                                follows_back(row['source_node'],row['destination_node']),axis=1)"
   ]
  },
  {
   "cell_type": "markdown",
   "metadata": {
    "colab_type": "text",
    "id": "aWzox0XORwFA"
   },
   "source": [
    "\n",
    "\n",
    "---\n",
    "**Shortest Path**\n"
   ]
  },
  {
   "cell_type": "code",
   "execution_count": 0,
   "metadata": {
    "colab": {},
    "colab_type": "code",
    "id": "fFbesvkoR5Fe"
   },
   "outputs": [],
   "source": [
    "#mapping shortest path on train \n",
    "df_final_train['shortest_path'] = df_final_train.apply(lambda row:\n",
    "                                shortest_path_length(row['source_node'],row['destination_node']),axis=1)\n",
    "\n",
    "#mapping shortest path on test\n",
    "df_final_test['shortest_path'] = df_final_test.apply(lambda row:\n",
    "                                shortest_path_length(row['source_node'],row['destination_node']),axis=1)"
   ]
  },
  {
   "cell_type": "markdown",
   "metadata": {
    "colab_type": "text",
    "id": "Q8Iaeb54RTrT"
   },
   "source": [
    "\n",
    "\n",
    "---\n",
    "\n",
    "\n",
    "**Weakly Connected Component**"
   ]
  },
  {
   "cell_type": "code",
   "execution_count": 0,
   "metadata": {
    "colab": {},
    "colab_type": "code",
    "id": "qG-2kjc9Ruhz"
   },
   "outputs": [],
   "source": [
    "#mapping same component of wcc or not on train\n",
    "df_final_train['same_comp'] = df_final_train.apply(lambda row:\n",
    "                                                   same_wcc(row['source_node'],row['destination_node']),axis=1)\n",
    "\n",
    "##mapping same component of wcc or not on train\n",
    "df_final_test['same_comp'] = df_final_test.apply(lambda row:\n",
    "                                                 same_wcc(row['source_node'],row['destination_node']),axis=1)"
   ]
  },
  {
   "cell_type": "markdown",
   "metadata": {
    "colab_type": "text",
    "id": "HUw9oP47Tf4e"
   },
   "source": [
    "\n",
    "\n",
    "---\n",
    "**Page Rank**\n"
   ]
  },
  {
   "cell_type": "code",
   "execution_count": 0,
   "metadata": {
    "colab": {},
    "colab_type": "code",
    "id": "7Lv-sV_aTtn6"
   },
   "outputs": [],
   "source": [
    "file = open('page_rank.p','rb')"
   ]
  },
  {
   "cell_type": "code",
   "execution_count": 0,
   "metadata": {
    "colab": {},
    "colab_type": "code",
    "id": "Cxni6Bl6UIRG"
   },
   "outputs": [],
   "source": [
    "page_rank = pickle.load(file)"
   ]
  },
  {
   "cell_type": "code",
   "execution_count": 0,
   "metadata": {
    "colab": {},
    "colab_type": "code",
    "id": "XLUShsOMUTrm"
   },
   "outputs": [],
   "source": [
    "#Page Rank for Source and Destination in Train and Test\n",
    "#If Anything not there in train graph then adding Mean Page Rank \n",
    "df_final_train['page_rank_s'] = df_final_train.source_node.apply(lambda x:page_rank.get(x,mean_pr))\n",
    "df_final_train['page_rank_d'] = df_final_train.destination_node.apply(lambda x:page_rank.get(x,mean_pr))\n",
    "\n",
    "df_final_test['page_rank_s'] = df_final_test.source_node.apply(lambda x:page_rank.get(x,mean_pr))\n",
    "df_final_test['page_rank_d'] = df_final_test.destination_node.apply(lambda x:page_rank.get(x,mean_pr))"
   ]
  },
  {
   "cell_type": "markdown",
   "metadata": {
    "colab_type": "text",
    "id": "ThfbV_-mVqnX"
   },
   "source": [
    "\n",
    "\n",
    "---\n",
    "**Katz Centrality**\n"
   ]
  },
  {
   "cell_type": "code",
   "execution_count": 0,
   "metadata": {
    "colab": {},
    "colab_type": "code",
    "id": "B7RJZo2WV4O8"
   },
   "outputs": [],
   "source": [
    "#Katz centrality score for source and destination in Train and test\n",
    "#If anything not there in train graph then adding mean katz score\n",
    "#Same as Page Rank\n",
    "df_final_train['katz_s'] = df_final_train.source_node.apply(lambda x: katz.get(x,mean_katz))\n",
    "df_final_train['katz_d'] = df_final_train.destination_node.apply(lambda x: katz.get(x,mean_katz))\n",
    "\n",
    "df_final_test['katz_s'] = df_final_test.source_node.apply(lambda x: katz.get(x,mean_katz))\n",
    "df_final_test['katz_d'] = df_final_test.destination_node.apply(lambda x: katz.get(x,mean_katz))"
   ]
  },
  {
   "cell_type": "code",
   "execution_count": 64,
   "metadata": {
    "colab": {
     "base_uri": "https://localhost:8080/",
     "height": 165
    },
    "colab_type": "code",
    "id": "B92FMH0mQ5m2",
    "outputId": "7855ea1f-5be9-4c29-cc90-6c7f66046470"
   },
   "outputs": [
    {
     "data": {
      "text/html": [
       "<div>\n",
       "<style scoped>\n",
       "    .dataframe tbody tr th:only-of-type {\n",
       "        vertical-align: middle;\n",
       "    }\n",
       "\n",
       "    .dataframe tbody tr th {\n",
       "        vertical-align: top;\n",
       "    }\n",
       "\n",
       "    .dataframe thead th {\n",
       "        text-align: right;\n",
       "    }\n",
       "</style>\n",
       "<table border=\"1\" class=\"dataframe\">\n",
       "  <thead>\n",
       "    <tr style=\"text-align: right;\">\n",
       "      <th></th>\n",
       "      <th>source_node</th>\n",
       "      <th>destination_node</th>\n",
       "      <th>indicator_link</th>\n",
       "      <th>followers_jaccard</th>\n",
       "      <th>followees_jaccard</th>\n",
       "      <th>followers_cosine</th>\n",
       "      <th>followees_cosine</th>\n",
       "      <th>adar_in</th>\n",
       "      <th>follows_back</th>\n",
       "      <th>shortest_path</th>\n",
       "      <th>same_comp</th>\n",
       "      <th>page_rank_s</th>\n",
       "      <th>page_rank_d</th>\n",
       "      <th>katz_s</th>\n",
       "      <th>katz_d</th>\n",
       "    </tr>\n",
       "  </thead>\n",
       "  <tbody>\n",
       "    <tr>\n",
       "      <th>0</th>\n",
       "      <td>273084</td>\n",
       "      <td>1505602</td>\n",
       "      <td>1</td>\n",
       "      <td>0.0</td>\n",
       "      <td>0.0</td>\n",
       "      <td>0</td>\n",
       "      <td>0</td>\n",
       "      <td>0</td>\n",
       "      <td>0</td>\n",
       "      <td>4</td>\n",
       "      <td>1</td>\n",
       "      <td>0.000002</td>\n",
       "      <td>3.459963e-07</td>\n",
       "      <td>0.000773</td>\n",
       "      <td>0.000756</td>\n",
       "    </tr>\n",
       "    <tr>\n",
       "      <th>1</th>\n",
       "      <td>1284805</td>\n",
       "      <td>1252082</td>\n",
       "      <td>1</td>\n",
       "      <td>0.0</td>\n",
       "      <td>0.0</td>\n",
       "      <td>0</td>\n",
       "      <td>0</td>\n",
       "      <td>0</td>\n",
       "      <td>1</td>\n",
       "      <td>3</td>\n",
       "      <td>1</td>\n",
       "      <td>0.000006</td>\n",
       "      <td>2.202787e-07</td>\n",
       "      <td>0.001007</td>\n",
       "      <td>0.000744</td>\n",
       "    </tr>\n",
       "  </tbody>\n",
       "</table>\n",
       "</div>"
      ],
      "text/plain": [
       "   source_node  destination_node  ...    katz_s    katz_d\n",
       "0       273084           1505602  ...  0.000773  0.000756\n",
       "1      1284805           1252082  ...  0.001007  0.000744\n",
       "\n",
       "[2 rows x 15 columns]"
      ]
     },
     "execution_count": 64,
     "metadata": {
      "tags": []
     },
     "output_type": "execute_result"
    }
   ],
   "source": [
    "df_final_train.head(2)"
   ]
  },
  {
   "cell_type": "markdown",
   "metadata": {
    "colab_type": "text",
    "id": "pSTk1BJRfz5h"
   },
   "source": [
    "And Since our Dataframe will be quite large, Using Pandas HDFStore we will create a HD5 file of both df_final_train and df_final_test dataframe for our next step i.e. Traing our Model and Prediction."
   ]
  },
  {
   "cell_type": "code",
   "execution_count": 0,
   "metadata": {
    "colab": {},
    "colab_type": "code",
    "id": "-JgA90DrWr3R"
   },
   "outputs": [],
   "source": [
    "from pandas import HDFStore, DataFrame\n",
    "from pandas import read_hdf"
   ]
  },
  {
   "cell_type": "code",
   "execution_count": 0,
   "metadata": {
    "colab": {},
    "colab_type": "code",
    "id": "uRtakr8QWzTW"
   },
   "outputs": [],
   "source": [
    "hdf = HDFStore('final_data.h5')\n",
    "hdf.put('train_df',df_final_train, format='table', data_columns=True)\n",
    "hdf.put('test_df',df_final_test, format='table', data_columns=True)\n",
    "hdf.close()"
   ]
  }
 ],
 "metadata": {
  "colab": {
   "name": "Link_Pred2.ipynb",
   "provenance": []
  },
  "kernelspec": {
   "display_name": "Python 3",
   "language": "python",
   "name": "python3"
  }
 },
 "nbformat": 4,
 "nbformat_minor": 1
}
